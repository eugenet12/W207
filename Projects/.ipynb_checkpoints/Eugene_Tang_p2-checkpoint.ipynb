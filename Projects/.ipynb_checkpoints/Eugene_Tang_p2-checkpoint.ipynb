{
 "cells": [
  {
   "cell_type": "markdown",
   "metadata": {},
   "source": [
    "# Project 2: Topic Classification"
   ]
  },
  {
   "cell_type": "markdown",
   "metadata": {},
   "source": [
    "In this project, you'll work with text data from newsgroup postings on a variety of topics. You'll train classifiers to distinguish between the topics based on the text of the posts. Whereas with digit classification, the input is relatively dense: a 28x28 matrix of pixels, many of which are non-zero, here we'll represent each document with a \"bag-of-words\" model. As you'll see, this makes the feature representation quite sparse -- only a few words of the total vocabulary are active in any given document. The bag-of-words assumption here is that the label depends only on the words; their order is not important.\n",
    "\n",
    "The SK-learn documentation on feature extraction will prove useful:\n",
    "http://scikit-learn.org/stable/modules/feature_extraction.html\n",
    "\n",
    "Each problem can be addressed succinctly with the included packages -- please don't add any more. Grading will be based on writing clean, commented code, along with a few short answers.\n",
    "\n",
    "As always, you're welcome to work on the project in groups and discuss ideas on the course wall, but please prepare your own write-up and write your own code."
   ]
  },
  {
   "cell_type": "code",
   "execution_count": 1,
   "metadata": {},
   "outputs": [
    {
     "name": "stderr",
     "output_type": "stream",
     "text": [
      "/Users/eugenetang/miniconda3/envs/W207/lib/python3.7/site-packages/sklearn/utils/__init__.py:4: DeprecationWarning: Using or importing the ABCs from 'collections' instead of from 'collections.abc' is deprecated, and in 3.8 it will stop working\n",
      "  from collections import Sequence\n",
      "/Users/eugenetang/miniconda3/envs/W207/lib/python3.7/site-packages/sklearn/cross_validation.py:41: DeprecationWarning: This module was deprecated in version 0.18 in favor of the model_selection module into which all the refactored classes and functions are moved. Also note that the interface of the new CV iterators are different from that of this module. This module will be removed in 0.20.\n",
      "  \"This module will be removed in 0.20.\", DeprecationWarning)\n",
      "/Users/eugenetang/miniconda3/envs/W207/lib/python3.7/site-packages/sklearn/grid_search.py:42: DeprecationWarning: This module was deprecated in version 0.18 in favor of the model_selection module into which all the refactored classes and functions are moved. This module will be removed in 0.20.\n",
      "  DeprecationWarning)\n"
     ]
    }
   ],
   "source": [
    "# This tells matplotlib not to try opening a new window for each plot.\n",
    "%matplotlib inline\n",
    "\n",
    "# General libraries.\n",
    "import re\n",
    "import numpy as np\n",
    "import matplotlib.pyplot as plt\n",
    "\n",
    "# SK-learn libraries for learning.\n",
    "from sklearn.pipeline import Pipeline\n",
    "from sklearn.neighbors import KNeighborsClassifier\n",
    "from sklearn.linear_model import LogisticRegression\n",
    "from sklearn.naive_bayes import BernoulliNB\n",
    "from sklearn.naive_bayes import MultinomialNB\n",
    "from sklearn.grid_search import GridSearchCV\n",
    "\n",
    "# SK-learn libraries for evaluation.\n",
    "from sklearn.metrics import confusion_matrix\n",
    "from sklearn import metrics\n",
    "from sklearn.metrics import classification_report\n",
    "\n",
    "# SK-learn library for importing the newsgroup data.\n",
    "from sklearn.datasets import fetch_20newsgroups\n",
    "\n",
    "# SK-learn libraries for feature extraction from text.\n",
    "from sklearn.feature_extraction.text import *"
   ]
  },
  {
   "cell_type": "markdown",
   "metadata": {},
   "source": [
    "Load the data, stripping out metadata so that we learn classifiers that only use textual features. By default, newsgroups data is split into train and test sets. We further split the test so we have a dev set. Note that we specify 4 categories to use for this project. If you remove the categories argument from the fetch function, you'll get all 20 categories."
   ]
  },
  {
   "cell_type": "code",
   "execution_count": 2,
   "metadata": {},
   "outputs": [
    {
     "name": "stdout",
     "output_type": "stream",
     "text": [
      "training label shape: (2034,)\n",
      "test label shape: (677,)\n",
      "dev label shape: (676,)\n",
      "labels names: ['alt.atheism', 'comp.graphics', 'sci.space', 'talk.religion.misc']\n"
     ]
    }
   ],
   "source": [
    "categories = ['alt.atheism', 'talk.religion.misc', 'comp.graphics', 'sci.space']\n",
    "newsgroups_train = fetch_20newsgroups(subset='train',\n",
    "                                      remove=('headers', 'footers', 'quotes'),\n",
    "                                      categories=categories,\n",
    "                                      data_home='~/Desktop/EugeneTang/Grad School/Berkeley/W207_AML/Assignments/Datasets')\n",
    "newsgroups_test = fetch_20newsgroups(subset='test',\n",
    "                                     remove=('headers', 'footers', 'quotes'),\n",
    "                                     categories=categories,\n",
    "                                     data_home='~/Desktop/EugeneTang/Grad School/Berkeley/W207_AML/Assignments/Datasets')\n",
    "\n",
    "num_test = len(newsgroups_test.target)\n",
    "dev_test_split = int(num_test/2)\n",
    "test_data, test_labels = newsgroups_test.data[dev_test_split:], newsgroups_test.target[dev_test_split:]\n",
    "dev_data, dev_labels = newsgroups_test.data[:dev_test_split], newsgroups_test.target[:dev_test_split]\n",
    "train_data, train_labels = newsgroups_train.data, newsgroups_train.target\n",
    "\n",
    "print('training label shape:', train_labels.shape)\n",
    "print('test label shape:', test_labels.shape)\n",
    "print('dev label shape:', dev_labels.shape)\n",
    "print('labels names:', newsgroups_train.target_names)"
   ]
  },
  {
   "cell_type": "markdown",
   "metadata": {},
   "source": [
    "(1) For each of the first 5 training examples, print the text of the message along with the label.\n",
    "\n",
    "[2 pts]"
   ]
  },
  {
   "cell_type": "code",
   "execution_count": 20,
   "metadata": {},
   "outputs": [
    {
     "name": "stdout",
     "output_type": "stream",
     "text": [
      "------------------------------\n",
      "Label: comp.graphics\n",
      "Text: Hi,\n",
      "\n",
      "I've noticed that if you only save a model (with all your mapping planes\n",
      "positioned carefully) to a .3DS file that when you reload it after restarting\n",
      "3DS, they are given a default position and orientation.  But if you save\n",
      "to a .PRJ file their positions/orientation are preserved.  Does anyone\n",
      "know why this information is not stored in the .3DS file?  Nothing is\n",
      "explicitly said in the manual about saving texture rules in the .PRJ file. \n",
      "I'd like to be able to read the texture rule information, does anyone have \n",
      "the format for the .PRJ file?\n",
      "\n",
      "Is the .CEL file format available from somewhere?\n",
      "\n",
      "Rych\n",
      "------------------------------\n",
      "Label: talk.religion.misc\n",
      "Text: \n",
      "\n",
      "Seems to be, barring evidence to the contrary, that Koresh was simply\n",
      "another deranged fanatic who thought it neccessary to take a whole bunch of\n",
      "folks with him, children and all, to satisfy his delusional mania. Jim\n",
      "Jones, circa 1993.\n",
      "\n",
      "\n",
      "Nope - fruitcakes like Koresh have been demonstrating such evil corruption\n",
      "for centuries.\n",
      "------------------------------\n",
      "Label: sci.space\n",
      "Text: \n",
      " >In article <1993Apr19.020359.26996@sq.sq.com>, msb@sq.sq.com (Mark Brader) \n",
      "\n",
      "MB>                                                             So the\n",
      "MB> 1970 figure seems unlikely to actually be anything but a perijove.\n",
      "\n",
      "JG>Sorry, _perijoves_...I'm not used to talking this language.\n",
      "\n",
      "Couldn't we just say periapsis or apoapsis?\n",
      "\n",
      " \n",
      "------------------------------\n",
      "Label: alt.atheism\n",
      "Text: I have a request for those who would like to see Charley Wingate\n",
      "respond to the \"Charley Challenges\" (and judging from my e-mail, there\n",
      "appear to be quite a few of you.)  \n",
      "\n",
      "It is clear that Mr. Wingate intends to continue to post tangential or\n",
      "unrelated articles while ingoring the Challenges themselves.  Between\n",
      "the last two re-postings of the Challenges, I noted perhaps a dozen or\n",
      "more posts by Mr. Wingate, none of which answered a single Challenge.  \n",
      "\n",
      "It seems unmistakable to me that Mr. Wingate hopes that the questions\n",
      "will just go away, and he is doing his level best to change the\n",
      "subject.  Given that this seems a rather common net.theist tactic, I\n",
      "would like to suggest that we impress upon him our desire for answers,\n",
      "in the following manner:\n",
      "\n",
      "1. Ignore any future articles by Mr. Wingate that do not address the\n",
      "Challenges, until he answers them or explictly announces that he\n",
      "refuses to do so.\n",
      "\n",
      "--or--\n",
      "\n",
      "2. If you must respond to one of his articles, include within it\n",
      "something similar to the following:\n",
      "\n",
      "    \"Please answer the questions posed to you in the Charley Challenges.\"\n",
      "\n",
      "Really, I'm not looking to humiliate anyone here, I just want some\n",
      "honest answers.  You wouldn't think that honesty would be too much to\n",
      "ask from a devout Christian, would you?  \n",
      "\n",
      "Nevermind, that was a rhetorical question.\n",
      "------------------------------\n",
      "Label: sci.space\n",
      "Text: AW&ST  had a brief blurb on a Manned Lunar Exploration confernce\n",
      "May 7th  at Crystal City Virginia, under the auspices of AIAA.\n",
      "\n",
      "Does anyone know more about this?  How much, to attend????\n",
      "\n",
      "Anyone want to go?\n",
      "------------------------------\n"
     ]
    }
   ],
   "source": [
    "id_to_category = newsgroups_train.target_names\n",
    "def P1(num_examples=5):\n",
    "    print('------------------------------')\n",
    "    for i in range(num_examples):\n",
    "        print('Label: {}'.format(id_to_category[train_labels[i]]))\n",
    "        print('Text: {}'.format(train_data[i]))\n",
    "        print('------------------------------')\n",
    "P1(5) # change this from 2 to 5?"
   ]
  },
  {
   "cell_type": "markdown",
   "metadata": {},
   "source": [
    "(2) Use CountVectorizer to turn the raw training text into feature vectors. You should use the fit_transform function, which makes 2 passes through the data: first it computes the vocabulary (\"fit\"), second it converts the raw text into feature vectors using the vocabulary (\"transform\").\n",
    "\n",
    "The vectorizer has a lot of options. To get familiar with some of them, write code to answer these questions:\n",
    "\n",
    "a. The output of the transform (also of fit_transform) is a sparse matrix: http://docs.scipy.org/doc/scipy-0.14.0/reference/generated/scipy.sparse.csr_matrix.html. What is the size of the vocabulary? What is the average number of non-zero features per example? What fraction of the entries in the matrix are non-zero? Hint: use \"nnz\" and \"shape\" attributes.\n",
    "\n",
    "b. What are the 0th and last feature strings (in alphabetical order)? Hint: use the vectorizer's get_feature_names function.\n",
    "\n",
    "c. Specify your own vocabulary with 4 words: [\"atheism\", \"graphics\", \"space\", \"religion\"]. Confirm the training vectors are appropriately shaped. Now what's the average number of non-zero features per example?\n",
    "\n",
    "d. Instead of extracting unigram word features, use \"analyzer\" and \"ngram_range\" to extract bigram and trigram character features. What size vocabulary does this yield?\n",
    "\n",
    "e. Use the \"min_df\" argument to prune words that appear in fewer than 10 documents. What size vocabulary does this yield?\n",
    "\n",
    "f. Using the standard CountVectorizer, what fraction of the words in the dev data are missing from the vocabulary? Hint: build a vocabulary for both train and dev and look at the size of the difference.\n",
    "\n",
    "[6 pts]"
   ]
  },
  {
   "cell_type": "code",
   "execution_count": 31,
   "metadata": {},
   "outputs": [
    {
     "name": "stdout",
     "output_type": "stream",
     "text": [
      "a.\n",
      "The vocabulary contains 26879 terms.\n",
      "The average number of non-zero features per example is 96.70599803343165.\n",
      "The fraction of non-zero entries in the matrix is 0.0035978272269590263.\n",
      "\n",
      "b.\n",
      "The 0th feature string is 00\n",
      "The last feature string is zyxel\n",
      "\n",
      "c.\n",
      "Our data contains 2034 rows and a vocabulary size of 4, as expected.\n",
      "The fraction of non-zero entries in the matrix is 0.06710914454277286.\n",
      "\n",
      "d.\n",
      "Our character bigram/trigram data has a vocabulary size of 35478.\n",
      "\n",
      "e.\n",
      "Our data with a minimum document frequency of 10 has a vocabulary size of 3064.\n",
      "\n",
      "f.\n",
      "0.24787640034470024 of the words in the dev data are missing from the vocabulary\n"
     ]
    }
   ],
   "source": [
    "def P2():\n",
    "    cv = CountVectorizer()\n",
    "    train_vectors = cv.fit_transform(train_data)\n",
    "    \n",
    "    # a\n",
    "    num_rows = train_vectors.shape[0]\n",
    "    vocab_size = train_vectors.shape[1]\n",
    "    print('a.')\n",
    "    print('The vocabulary contains {} terms.'.format(vocab_size))\n",
    "    print('The average number of non-zero features per example is {}.'.format(train_vectors.nnz/num_rows))\n",
    "    print('The fraction of non-zero entries in the matrix is {}.'.format(train_vectors.nnz/(vocab_size * num_rows)))\n",
    "    print()\n",
    "\n",
    "    # b\n",
    "    feature_names = cv.get_feature_names() # feature names is alphabetical already\n",
    "    print('b.')\n",
    "    print('The 0th feature string is {}'.format(feature_names[0]))\n",
    "    print('The last feature string is {}'.format(feature_names[-1]))\n",
    "    print()\n",
    "\n",
    "    # c\n",
    "    cv_c = CountVectorizer(vocabulary=[\"atheism\", \"graphics\", \"space\", \"religion\"])\n",
    "    train_vectors_c = cv_c.fit_transform(train_data)\n",
    "    num_rows_c = train_vectors_c.shape[0]\n",
    "    vocab_size_c = train_vectors_c.shape[1]\n",
    "    print('c.')\n",
    "    print('Our data contains {} rows and a vocabulary size of {}, as expected.'.format(num_rows_c, vocab_size_c))\n",
    "    print('The fraction of non-zero entries in the matrix is {}.'.format(train_vectors_c.nnz/(vocab_size_c * num_rows_c)))\n",
    "    print()\n",
    "    \n",
    "    # d\n",
    "    cv_d = CountVectorizer(analyzer='char', ngram_range=(2,3))\n",
    "    train_vectors_d = cv_d.fit_transform(train_data)\n",
    "    vocab_size_d = train_vectors_d.shape[1]\n",
    "    print('d.')\n",
    "    print('Our character bigram/trigram data has a vocabulary size of {}.'.format(vocab_size_d))\n",
    "    print()\n",
    "    \n",
    "    # e\n",
    "    cv_e = CountVectorizer(min_df=10)\n",
    "    train_vectors_e = cv_e.fit_transform(train_data)\n",
    "    vocab_size_e = train_vectors_e.shape[1]\n",
    "    print('e.')\n",
    "    print('Our data with a minimum document frequency of 10 has a vocabulary size of {}.'.format(vocab_size_e))\n",
    "    print()    \n",
    "    \n",
    "    # f\n",
    "    cv_dev = CountVectorizer()\n",
    "    dev_vectors = cv_dev.fit_transform(dev_data)\n",
    "    \n",
    "    dev_feature_names = cv_dev.get_feature_names()\n",
    "    num_missing_words_dev = len(set(dev_feature_names) - set(feature_names))\n",
    "    num_words_dev = len(dev_feature_names)\n",
    "    print('f.')\n",
    "    print('{} of the words in the dev data are missing from the vocabulary'.format(num_missing_words_dev/num_words_dev))\n",
    "    \n",
    "P2()"
   ]
  },
  {
   "cell_type": "markdown",
   "metadata": {},
   "source": [
    "(3) Use the default CountVectorizer options and report the f1 score (use metrics.f1_score) for a k nearest neighbors classifier; find the optimal value for k. Also fit a Multinomial Naive Bayes model and find the optimal value for alpha. Finally, fit a logistic regression model and find the optimal value for the regularization strength C using l2 regularization. A few questions:\n",
    "\n",
    "a. Why doesn't nearest neighbors work well for this problem?\n",
    "\n",
    "b. Any ideas why logistic regression doesn't work as well as Naive Bayes?\n",
    "\n",
    "c. Logistic regression estimates a weight vector for each class, which you can access with the coef\\_ attribute. Output the sum of the squared weight values for each class for each setting of the C parameter. Briefly explain the relationship between the sum and the value of C.\n",
    "\n",
    "[4 pts]"
   ]
  },
  {
   "cell_type": "code",
   "execution_count": 68,
   "metadata": {},
   "outputs": [
    {
     "name": "stdout",
     "output_type": "stream",
     "text": [
      "The optimal value for k in knn is 150.\n",
      "The f1 score of the optimal knn classifier on the dev data is 0.4423076923076923.\n",
      "\n",
      "The optimal value for alpha in Multinomial Naive Bayes is 0.01.\n",
      "The f1 score of the optimal Mulitnomial Naive Bayes classifier on the dev data is 0.7795857988165681.\n"
     ]
    },
    {
     "name": "stderr",
     "output_type": "stream",
     "text": [
      "/Users/eugenetang/miniconda3/envs/W207/lib/python3.7/site-packages/sklearn/naive_bayes.py:472: UserWarning: alpha too small will result in numeric errors, setting alpha = 1.0e-10\n",
      "  'setting alpha = %.1e' % _ALPHA_MIN)\n",
      "/Users/eugenetang/miniconda3/envs/W207/lib/python3.7/site-packages/sklearn/naive_bayes.py:472: UserWarning: alpha too small will result in numeric errors, setting alpha = 1.0e-10\n",
      "  'setting alpha = %.1e' % _ALPHA_MIN)\n",
      "/Users/eugenetang/miniconda3/envs/W207/lib/python3.7/site-packages/sklearn/naive_bayes.py:472: UserWarning: alpha too small will result in numeric errors, setting alpha = 1.0e-10\n",
      "  'setting alpha = %.1e' % _ALPHA_MIN)\n"
     ]
    },
    {
     "name": "stdout",
     "output_type": "stream",
     "text": [
      "The optimal value for C in logistic regression is 0.5.\n",
      "The f1 score of the optimal logistic regression classifier on the dev data is 0.7159763313609467.\n",
      "\n",
      "Sum of Squared Weights by Value of C\n",
      "C       | Sum of Squared Weights\n",
      "--------------------------------\n",
      " 0.0001 |                   0.04\n",
      " 0.0010 |                   0.73\n",
      " 0.0100 |                  10.59\n",
      " 0.1000 |                 102.27\n",
      " 0.5000 |                 373.73\n",
      " 1.0000 |                 601.66\n",
      " 2.0000 |                 922.25\n",
      "10.0000 |                2107.36\n"
     ]
    }
   ],
   "source": [
    "def P3():\n",
    "    cv = CountVectorizer()\n",
    "    train_vectors = cv.fit_transform(train_data)\n",
    "    dev_vectors = cv.transform(dev_data)\n",
    "    \n",
    "    f1_metric = 'micro' # caculate the f-score based on num-right v. num-wrong\n",
    "    \n",
    "    # Grid-search on KNN. We try nearest neighbors from 1 and[10,300] in intervals of 10\n",
    "    n_neighbors = [1] + list(range(10,301,10))\n",
    "    knn_grid = GridSearchCV(estimator=KNeighborsClassifier(), param_grid={'n_neighbors': n_neighbors}, scoring='f1_{}'.format(f1_metric))\n",
    "    knn_grid.fit(train_vectors, train_labels)\n",
    "    dev_pred_knn = knn_grid.best_estimator_.predict(dev_vectors)\n",
    "    knn_f1_score = metrics.f1_score(dev_labels, dev_pred_knn, average=f1_metric)\n",
    "    print('The optimal value for k in knn is {}.'.format(knn_grid.best_params_['n_neighbors']))\n",
    "    print('The f1 score of the optimal knn classifier on the dev data is {}.'.format(knn_f1_score))\n",
    "    print()\n",
    "    \n",
    "    # Grid-search on Multinomial Naive Bayes. We try alpha in this array: [0.0, 0.0001, 0.001, 0.01, 0.1, 0.5, 1.0, 2.0, 10.0]\n",
    "    alphas = [0.0, 0.0001, 0.001, 0.01, 0.1, 0.5, 1.0, 2.0, 10.0]\n",
    "    mnb_grid = GridSearchCV(estimator=MultinomialNB(), param_grid={'alpha': alphas}, scoring='f1_{}'.format(f1_metric))\n",
    "    mnb_grid.fit(train_vectors, train_labels)\n",
    "    dev_pred_mnb = mnb_grid.best_estimator_.predict(dev_vectors)\n",
    "    mnb_f1_score = metrics.f1_score(dev_labels, dev_pred_mnb, average=f1_metric)\n",
    "    print('The optimal value for alpha in Multinomial Naive Bayes is {}.'.format(mnb_grid.best_params_['alpha']))\n",
    "    print('The f1 score of the optimal Mulitnomial Naive Bayes classifier on the dev data is {}.'.format(mnb_f1_score))\n",
    "    \n",
    "    # Grid-search on logistic regression with l2 regularization. We try the following values for C: [0.0001, 0.001, 0.01, 0.1, 0.5, 1.0, 2.0, 10.0]\n",
    "    Cs = [0.0001, 0.001, 0.01, 0.1, 0.5, 1.0, 2.0, 10.0]\n",
    "    lr_grid = GridSearchCV(estimator=LogisticRegression(), param_grid={'C': Cs}, scoring='f1_{}'.format(f1_metric))\n",
    "    lr_grid.fit(train_vectors, train_labels)\n",
    "    dev_pred_lr = lr_grid.best_estimator_.predict(dev_vectors)\n",
    "    lr_f1_score = metrics.f1_score(dev_labels, dev_pred_lr, average=f1_metric)\n",
    "    print('The optimal value for C in logistic regression is {}.'.format(lr_grid.best_params_['C']))\n",
    "    print('The f1 score of the optimal logistic regression classifier on the dev data is {}.'.format(lr_f1_score))\n",
    "    print()\n",
    "    \n",
    "    print('Sum of Squared Weights by Value of C')\n",
    "    print('C       | Sum of Squared Weights')\n",
    "    print('--------------------------------')\n",
    "    for c in Cs:\n",
    "        lr = LogisticRegression(C=c)\n",
    "        lr.fit(train_vectors, train_labels)\n",
    "        print('{:7.4f} | {:22.2f}'.format(c, float(np.sum(np.square(lr.coef_)))))\n",
    "    \n",
    "P3()"
   ]
  },
  {
   "cell_type": "markdown",
   "metadata": {},
   "source": [
    "ANSWER:\n",
    "\n",
    "\n",
    "a. Nearest neighbors doesn't work well for this problem because different texts in the same category will still use different words, even if those words are close in meaning. Thus a high \"distance\" can be misleading in this space. (e.g. if one document says \"religion is bad\", and the other says \"I like Christianity\", they will be seen as having no overlap even though they talk about very similar things.). Also, the default KNN uses Euclidean distance, so the length of the document could also influence the perceived \"distances\" (longer documents will be more likely to be \"far\" away from each other).\n",
    "\n",
    "\n",
    "b. Because Naive Bayes tries to estimate probabilities that a word appears in a document of a given category, it likely requires less data to provide a decent estimate. On the other hand, in this case logistic regression may do worse because it does not have examples of each word associated with each category to make a good coefficient.\n",
    "\n",
    "\n",
    "c. From the output above, we can see that the sum of the squared weights generally increase with C. This makes sense because a lower value of C penalizes higher weights more. (C is the inverse of regularization strength)."
   ]
  },
  {
   "cell_type": "markdown",
   "metadata": {},
   "source": [
    "(4) Train a logistic regression model. Find the 5 features with the largest weights for each label -- 20 features in total. Create a table with 20 rows and 4 columns that shows the weight for each of these features for each of the labels. Create the table again with bigram features. Any surprising features in this table?\n",
    "\n",
    "[5 pts]"
   ]
  },
  {
   "cell_type": "code",
   "execution_count": 17,
   "metadata": {},
   "outputs": [
    {
     "name": "stdout",
     "output_type": "stream",
     "text": [
      "Top features for each category with a unigram tokenizer\n",
      "Word         | Weight for Atheism | Weight for Computer Graphics | Weight for Space | Weight for Religion\n",
      "---------------------------------------------------------------------------------------------------------\n",
      "deletion     |           0.723524 |                    -0.249531 |        -0.272433 |           -0.270263\n",
      "atheism      |           0.794488 |                    -0.348444 |        -0.367204 |           -0.377076\n",
      "religion     |           0.798243 |                    -0.508671 |        -0.658825 |           -0.050695\n",
      "bobby        |           0.823571 |                    -0.191204 |        -0.286357 |           -0.387236\n",
      "atheists     |           0.833600 |                    -0.093277 |        -0.267655 |           -0.637544\n",
      "computer     |           0.071498 |                     0.843819 |        -0.569566 |           -0.396290\n",
      "3d           |          -0.303361 |                     0.941459 |        -0.571030 |           -0.317533\n",
      "file         |          -0.275315 |                     1.058955 |        -0.682625 |           -0.506265\n",
      "image        |          -0.469171 |                     1.116845 |        -0.672362 |           -0.380431\n",
      "graphics     |          -0.640678 |                     1.626462 |        -1.102958 |           -0.626376\n",
      "spacecraft   |          -0.297337 |                    -0.321676 |         0.737371 |           -0.291776\n",
      "launch       |          -0.377253 |                    -0.396577 |         0.783892 |           -0.280715\n",
      "nasa         |          -0.465166 |                    -0.410377 |         0.851712 |           -0.401588\n",
      "orbit        |          -0.350088 |                    -0.559736 |         1.012709 |           -0.499010\n",
      "space        |          -1.061067 |                    -1.115734 |         1.864177 |           -0.972089\n",
      "order        |          -0.649497 |                    -0.065549 |        -0.124235 |            0.742980\n",
      "fbi          |          -0.244137 |                    -0.217396 |        -0.374917 |            0.754684\n",
      "blood        |          -0.428859 |                    -0.096751 |        -0.230778 |            0.846869\n",
      "christian    |          -0.482699 |                    -0.339032 |        -0.247513 |            0.925616\n",
      "christians   |          -0.607265 |                    -0.315390 |        -0.404354 |            0.929500\n",
      "\n",
      "Top features for each category with a bigram tokenizer\n",
      "Word         | Weight for Atheism | Weight for Computer Graphics | Weight for Space | Weight for Religion\n",
      "---------------------------------------------------------------------------------------------------------\n",
      "are you      |           0.446953 |                    -0.248261 |        -0.097147 |           -0.305623\n",
      "you are      |           0.472740 |                    -0.279888 |        -0.481324 |            0.028371\n",
      "was just     |           0.482050 |                    -0.131432 |        -0.128896 |           -0.227466\n",
      "cheers kent  |           0.555720 |                    -0.697918 |        -0.663773 |            0.534808\n",
      "claim that   |           0.605549 |                    -0.199054 |        -0.274355 |           -0.140364\n",
      "is there     |          -0.340882 |                     0.754978 |        -0.468261 |           -0.257092\n",
      "out there    |          -0.274803 |                     0.758678 |        -0.479071 |           -0.277089\n",
      "comp graphics |          -0.292166 |                     0.801217 |        -0.370896 |           -0.285185\n",
      "in advance   |          -0.459351 |                     0.832563 |        -0.438511 |           -0.418455\n",
      "looking for  |          -0.630341 |                     1.108348 |        -0.499971 |           -0.571862\n",
      "it was       |          -0.203029 |                    -0.309682 |         0.525398 |           -0.313559\n",
      "and such     |          -0.204269 |                    -0.337506 |         0.590519 |           -0.218200\n",
      "sci space    |          -0.258008 |                    -0.329148 |         0.621087 |           -0.221247\n",
      "the moon     |          -0.350563 |                    -0.492601 |         0.831048 |           -0.213799\n",
      "the space    |          -0.268187 |                    -0.530107 |         0.871092 |           -0.273839\n",
      "of jesus     |          -0.091910 |                    -0.173760 |        -0.212427 |            0.423747\n",
      "but he       |          -0.190019 |                    -0.216892 |        -0.137399 |            0.491877\n",
      "ignorance is |          -0.158011 |                    -0.171074 |        -0.139580 |            0.504307\n",
      "cheers kent  |           0.555720 |                    -0.697918 |        -0.663773 |            0.534808\n",
      "the fbi      |          -0.131974 |                    -0.211356 |        -0.295292 |            0.551993\n"
     ]
    }
   ],
   "source": [
    "def print_top_5_features(cv, lr):\n",
    "    # Print out top 5 weighted features (not in absolute value: top features that indicate that a category is present)  \n",
    "    top_feature_indices = []\n",
    "\n",
    "    # Get top features\n",
    "    for i in range(len(newsgroups_train.target_names)):\n",
    "        top_feature_indices += lr.coef_[i].argsort()[-5:].tolist()\n",
    "    \n",
    "    # Print table\n",
    "    print('Word         | Weight for Atheism | Weight for Computer Graphics | Weight for Space | Weight for Religion')\n",
    "    print('---------------------------------------------------------------------------------------------------------')\n",
    "    feature_names = cv.get_feature_names()\n",
    "    for feature_index in top_feature_indices:\n",
    "        # get feature name\n",
    "        table_entries = [feature_names[feature_index]] \n",
    "        # add feature weights for each category\n",
    "        table_entries += [lr.coef_[i][feature_index] for i in range(len(newsgroups_train.target_names))]\n",
    "        print('{:12s} | {:18.6f} | {:28.6f} | {:16.6f} | {:19.6f}'.format(*table_entries))\n",
    "\n",
    "def P4():\n",
    "    # We train a logistic regression with C=0.5 (found before)\n",
    "    cv = CountVectorizer()\n",
    "    train_vectors = cv.fit_transform(train_data)\n",
    "    lr = LogisticRegression(C=0.5)\n",
    "    lr.fit(train_vectors, train_labels)\n",
    "    print('Top features for each category with a unigram tokenizer')\n",
    "    print_top_5_features(cv, lr)\n",
    "    \n",
    "    print()\n",
    "        \n",
    "    # Same as above except using bigram features\n",
    "    cv_bigram = CountVectorizer(ngram_range=(2,2))\n",
    "    train_vectors_bigram = cv_bigram.fit_transform(train_data)\n",
    "    lr_bigram = LogisticRegression(C=0.5)\n",
    "    lr_bigram.fit(train_vectors_bigram, train_labels)\n",
    "    print('Top features for each category with a bigram tokenizer')\n",
    "    print_top_5_features(cv_bigram, lr_bigram)\n",
    "    \n",
    "    \n",
    "P4()"
   ]
  },
  {
   "cell_type": "markdown",
   "metadata": {},
   "source": [
    "ANSWER: \n",
    "\n",
    "\n",
    "For the unigram classifier, we see that the top features for each category are words that we would expect to associate with the category (e.g. \"nasa\" and \"orbit\" with Space, and \"image\" and \"graphics\" with Computer Graphics). Some of the top unigram features are a little bit surprising (e.g. \"fbi\" for Religion and \"deletion\" for Atheism), overall they make sense. The presense of stranger words could be the result of the content of the sample documents (e.g. fbi investigations into religious organizations).\n",
    "\n",
    "\n",
    "For the bigrams features, however, we do have some surprising top features. For example, in Atheism \"are you\" and \"you are\" show up as top features, which is quite unexpected. TODO: continue"
   ]
  },
  {
   "cell_type": "markdown",
   "metadata": {},
   "source": [
    "(5) Try to improve the logistic regression classifier by passing a custom preprocessor to CountVectorizer. The preprocessing function runs on the raw text, before it is split into words by the tokenizer. Your preprocessor should try to normalize the input in various ways to improve generalization. For example, try lowercasing everything, replacing sequences of numbers with a single token, removing various other non-letter characters, and shortening long words. If you're not already familiar with regular expressions for manipulating strings, see https://docs.python.org/2/library/re.html, and re.sub() in particular. With your new preprocessor, how much did you reduce the size of the dictionary?\n",
    "\n",
    "For reference, I was able to improve dev F1 by 2 points.\n",
    "\n",
    "[4 pts]"
   ]
  },
  {
   "cell_type": "code",
   "execution_count": 7,
   "metadata": {},
   "outputs": [],
   "source": [
    "def empty_preprocessor(s):\n",
    "    return s\n",
    "\n",
    "#def better_preprocessor(s):\n",
    "### STUDENT START ###\n",
    "\n",
    "### STUDENT END ###\n",
    "\n",
    "#def P5():\n",
    "### STUDENT START ###\n",
    "\n",
    "    \n",
    "### STUDENT END ###\n",
    "#P5()"
   ]
  },
  {
   "cell_type": "markdown",
   "metadata": {},
   "source": [
    "(6) The idea of regularization is to avoid learning very large weights (which are likely to fit the training data, but not generalize well) by adding a penalty to the total size of the learned weights. That is, logistic regression seeks the set of weights that minimizes errors in the training data AND has a small size. The default regularization, L2, computes this size as the sum of the squared weights (see P3, above). L1 regularization computes this size as the sum of the absolute values of the weights. The result is that whereas L2 regularization makes all the weights relatively small, L1 regularization drives lots of the weights to 0, effectively removing unimportant features.\n",
    "\n",
    "Train a logistic regression model using a \"l1\" penalty. Output the number of learned weights that are not equal to zero. How does this compare to the number of non-zero weights you get with \"l2\"? Now, reduce the size of the vocabulary by keeping only those features that have at least one non-zero weight and retrain a model using \"l2\".\n",
    "\n",
    "Make a plot showing accuracy of the re-trained model vs. the vocabulary size you get when pruning unused features by adjusting the C parameter.\n",
    "\n",
    "Note: The gradient descent code that trains the logistic regression model sometimes has trouble converging with extreme settings of the C parameter. Relax the convergence criteria by setting tol=.01 (the default is .0001).\n",
    "\n",
    "[4 pts]"
   ]
  },
  {
   "cell_type": "code",
   "execution_count": 8,
   "metadata": {},
   "outputs": [],
   "source": [
    "def P6():\n",
    "    # Keep this random seed here to make comparison easier.\n",
    "    np.random.seed(0)\n",
    "\n",
    "    ### STUDENT START ###\n",
    "\n",
    "    \n",
    "\n",
    "    ### STUDENT END ###\n",
    "P6()"
   ]
  },
  {
   "cell_type": "markdown",
   "metadata": {},
   "source": [
    "(7) Use the TfidfVectorizer -- how is this different from the CountVectorizer? Train a logistic regression model with C=100.\n",
    "\n",
    "Make predictions on the dev data and show the top 3 documents where the ratio R is largest, where R is:\n",
    "\n",
    "maximum predicted probability / predicted probability of the correct label\n",
    "\n",
    "What kinds of mistakes is the model making? Suggest a way to address one particular issue that you see.\n",
    "\n",
    "[4 pts]"
   ]
  },
  {
   "cell_type": "code",
   "execution_count": 11,
   "metadata": {},
   "outputs": [],
   "source": [
    "#def P7():\n",
    "    ### STUDENT START ###\n",
    "\n",
    "\n",
    "\n",
    "    ### STUDENT END ###\n",
    "#P7()"
   ]
  },
  {
   "cell_type": "markdown",
   "metadata": {},
   "source": [
    "ANSWER:"
   ]
  },
  {
   "cell_type": "markdown",
   "metadata": {},
   "source": [
    "(8) EXTRA CREDIT\n",
    "\n",
    "Try implementing one of your ideas based on your error analysis. Use logistic regression as your underlying model.\n",
    "\n",
    "- [1 pt] for a reasonable attempt\n",
    "- [2 pts] for improved performance"
   ]
  }
 ],
 "metadata": {
  "kernelspec": {
   "display_name": "Python 3",
   "language": "python",
   "name": "python3"
  },
  "language_info": {
   "codemirror_mode": {
    "name": "ipython",
    "version": 3
   },
   "file_extension": ".py",
   "mimetype": "text/x-python",
   "name": "python",
   "nbconvert_exporter": "python",
   "pygments_lexer": "ipython3",
   "version": "3.7.0"
  }
 },
 "nbformat": 4,
 "nbformat_minor": 1
}
